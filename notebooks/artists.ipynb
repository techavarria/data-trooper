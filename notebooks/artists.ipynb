{
 "cells": [
  {
   "cell_type": "code",
   "execution_count": 1,
   "metadata": {},
   "outputs": [],
   "source": [
    "import billboard\n",
    "from pprint import pprint\n",
    "from plotly.offline import download_plotlyjs, init_notebook_mode, plot, iplot\n",
    "import plotly.graph_objs as go\n",
    "import plotly"
   ]
  },
  {
   "cell_type": "code",
   "execution_count": 2,
   "metadata": {},
   "outputs": [],
   "source": [
    "chart = billboard.ChartData('hot-100')"
   ]
  },
  {
   "cell_type": "code",
   "execution_count": 3,
   "metadata": {},
   "outputs": [
    {
     "data": {
      "text/plain": [
       "'The Hot 100'"
      ]
     },
     "execution_count": 3,
     "metadata": {},
     "output_type": "execute_result"
    }
   ],
   "source": [
    "chart.title"
   ]
  },
  {
   "cell_type": "code",
   "execution_count": 4,
   "metadata": {},
   "outputs": [],
   "source": [
    "artists = {}\n",
    "for song in chart:\n",
    "    try:\n",
    "        val = artists[song.artist]\n",
    "        artists[song.artist] = val+1\n",
    "    except Exception:\n",
    "        artists[song.artist] = 1\n"
   ]
  },
  {
   "cell_type": "code",
   "execution_count": 5,
   "metadata": {},
   "outputs": [
    {
     "name": "stdout",
     "output_type": "stream",
     "text": [
      "{'21 Savage': 1,\n",
      " '24kGoldn': 1,\n",
      " 'Alicia Keys Featuring Miguel': 1,\n",
      " 'Ant Saunders': 1,\n",
      " 'Anuel AA, Daddy Yankee, Karol G, Ozuna & J Balvin': 1,\n",
      " 'Arizona Zervas': 1,\n",
      " 'Billie Eilish': 3,\n",
      " 'Brantley Gilbert + Lindsay Ell': 1,\n",
      " 'Camila Cabello': 1,\n",
      " 'Chance The Rapper Featuring MadeinTYO & DaBaby': 1,\n",
      " 'Chris Brown Featuring Drake': 1,\n",
      " 'Chris Brown Featuring Gunna': 1,\n",
      " 'Chris Janson': 1,\n",
      " 'Chris Lane': 1,\n",
      " 'DaBaby': 3,\n",
      " 'DaBaby Featuring Offset': 1,\n",
      " 'Dan + Shay & Justin Bieber': 1,\n",
      " 'DaniLeigh Featuring Chris Brown': 1,\n",
      " 'Dierks Bentley': 1,\n",
      " 'Doja Cat & Tyga': 1,\n",
      " 'Drake Featuring Rick Ross': 1,\n",
      " 'Dua Lipa': 1,\n",
      " 'Dustin Lynch': 1,\n",
      " 'Ed Sheeran & Justin Bieber': 1,\n",
      " 'Ed Sheeran Featuring Khalid': 1,\n",
      " 'Ellie Goulding & Juice WRLD': 1,\n",
      " 'Halsey': 1,\n",
      " 'Internet Money, Lil Tecca & A Boogie Wit da Hoodie': 1,\n",
      " 'J Balvin & Bad Bunny': 1,\n",
      " 'Joji': 1,\n",
      " 'Jon Pardi': 1,\n",
      " 'Jonas Brothers': 2,\n",
      " 'Juice WRLD & YoungBoy Never Broke Again': 1,\n",
      " 'Kanye West': 1,\n",
      " 'Karol G & Nicki Minaj': 1,\n",
      " 'Keith Urban': 1,\n",
      " 'Kelsea Ballerini': 1,\n",
      " 'Kenny Chesney': 1,\n",
      " 'Khalid': 1,\n",
      " 'Lady Antebellum': 1,\n",
      " 'Layton Greene, Lil Baby, City Girls & PnB Rock': 1,\n",
      " 'Lewis Capaldi': 1,\n",
      " 'Lil Baby': 1,\n",
      " 'Lil Baby & DaBaby': 1,\n",
      " 'Lil Mosey x Gunna': 1,\n",
      " 'Lil Nas X': 1,\n",
      " 'Lil Nas X Featuring Billy Ray Cyrus': 1,\n",
      " 'Lil Tecca': 1,\n",
      " 'Lizzo': 2,\n",
      " 'Luke Combs': 2,\n",
      " 'Maren Morris': 1,\n",
      " 'Mariah Carey': 1,\n",
      " 'Maroon 5': 1,\n",
      " 'Marshmello & Kane Brown': 1,\n",
      " 'Matt Stell': 1,\n",
      " 'Megan Thee Stallion, Nicki Minaj & Ty Dolla $ign': 1,\n",
      " 'Miranda Lambert': 1,\n",
      " 'Mustard Featuring Roddy Ricch': 1,\n",
      " 'NF': 1,\n",
      " 'NLE Choppa': 1,\n",
      " 'Niall Horan': 1,\n",
      " 'Old Dominion': 1,\n",
      " 'Post Malone': 1,\n",
      " 'Post Malone Featuring DaBaby': 1,\n",
      " 'Post Malone Featuring Ozzy Osbourne & Travis Scott': 1,\n",
      " 'Post Malone Featuring Young Thug': 1,\n",
      " 'Rod Wave': 1,\n",
      " 'Roddy Ricch & Gunna': 1,\n",
      " 'Russell Dickerson': 1,\n",
      " 'SHAED': 1,\n",
      " 'Sam Hunt': 1,\n",
      " 'Sam Smith': 1,\n",
      " 'Sam Smith & Normani': 1,\n",
      " 'Saweetie': 1,\n",
      " 'Selena Gomez': 2,\n",
      " 'Shawn Mendes & Camila Cabello': 1,\n",
      " 'Summer Walker': 1,\n",
      " 'Summer Walker & Usher': 1,\n",
      " 'Taylor Swift': 1,\n",
      " 'Thomas Rhett': 1,\n",
      " 'Tones And I': 1,\n",
      " 'Tory Lanez & T-Pain': 1,\n",
      " 'Travis Scott': 1,\n",
      " 'Wale Featuring Jeremih': 1,\n",
      " 'Y2K & bbno$': 1,\n",
      " 'YNW Melly & 9lokknine': 1,\n",
      " 'Young Thug Featuring Gunna': 1,\n",
      " 'YoungBoy Never Broke Again': 4,\n",
      " 'blackbear': 1}\n"
     ]
    }
   ],
   "source": [
    "pprint(artists)"
   ]
  },
  {
   "cell_type": "code",
   "execution_count": 6,
   "metadata": {},
   "outputs": [
    {
     "data": {
      "text/plain": [
       "'images/newplot.html'"
      ]
     },
     "execution_count": 6,
     "metadata": {},
     "output_type": "execute_result"
    }
   ],
   "source": [
    "x = list(artists.keys())\n",
    "y = list(artists.values())\n",
    "\n",
    "fig = go.Figure(\n",
    "data=[go.Bar(x=x,y=y)]\n",
    ")\n",
    "fig.update_layout(\n",
    "    title=\"Top Artists\",\n",
    "    font=dict(\n",
    "        family=\"Courier New, monospace\",\n",
    "        size=28,\n",
    "        color=\"#7f7f7f\"\n",
    "    )\n",
    ")\n",
    "#fig.update_yaxes(range=[0, 5500000])\n",
    "\n",
    "plotly.offline.plot(fig, filename=f'images/newplot.html', image = 'png', image_filename=f'image',auto_open=True)"
   ]
  },
  {
   "cell_type": "code",
   "execution_count": null,
   "metadata": {},
   "outputs": [],
   "source": []
  }
 ],
 "metadata": {
  "kernelspec": {
   "display_name": "Python 3",
   "language": "python",
   "name": "python3"
  },
  "language_info": {
   "codemirror_mode": {
    "name": "ipython",
    "version": 3
   },
   "file_extension": ".py",
   "mimetype": "text/x-python",
   "name": "python",
   "nbconvert_exporter": "python",
   "pygments_lexer": "ipython3",
   "version": "3.7.5rc1"
  }
 },
 "nbformat": 4,
 "nbformat_minor": 2
}
